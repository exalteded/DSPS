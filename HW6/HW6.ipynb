{
  "nbformat": 4,
  "nbformat_minor": 0,
  "metadata": {
    "colab": {
      "name": "HW6.ipynb",
      "provenance": [],
      "include_colab_link": true
    },
    "kernelspec": {
      "name": "python3",
      "display_name": "Python 3"
    }
  },
  "cells": [
    {
      "cell_type": "markdown",
      "metadata": {
        "id": "view-in-github",
        "colab_type": "text"
      },
      "source": [
        "<a href=\"https://colab.research.google.com/github/exalteded/DSPS/blob/master/HW6/HW6.ipynb\" target=\"_parent\"><img src=\"https://colab.research.google.com/assets/colab-badge.svg\" alt=\"Open In Colab\"/></a>"
      ]
    },
    {
      "cell_type": "code",
      "metadata": {
        "id": "NKbOQFZfV66R",
        "colab_type": "code",
        "colab": {
          "base_uri": "https://localhost:8080/",
          "height": 34
        },
        "outputId": "d610988b-a299-4909-a93a-99b37dde11ca"
      },
      "source": [
        "from google.colab import drive\n",
        "drive.mount(\"/content/drive\")\n"
      ],
      "execution_count": 1,
      "outputs": [
        {
          "output_type": "stream",
          "text": [
            "Drive already mounted at /content/drive; to attempt to forcibly remount, call drive.mount(\"/content/drive\", force_remount=True).\n"
          ],
          "name": "stdout"
        }
      ]
    },
    {
      "cell_type": "code",
      "metadata": {
        "id": "kuMnq04aSmBM",
        "colab_type": "code",
        "colab": {
          "base_uri": "https://localhost:8080/",
          "height": 34
        },
        "outputId": "31a9993f-6bd5-4399-bbaa-d942853ba977"
      },
      "source": [
        "import numpy as np\n",
        "import scipy as sp\n",
        "import pandas as pd\n",
        "from scipy import stats\n",
        "import pylab as pl\n",
        "import math\n",
        "%pylab inline"
      ],
      "execution_count": 4,
      "outputs": [
        {
          "output_type": "stream",
          "text": [
            "Populating the interactive namespace from numpy and matplotlib\n"
          ],
          "name": "stdout"
        }
      ]
    },
    {
      "cell_type": "code",
      "metadata": {
        "id": "MMWG7eZEb5yw",
        "colab_type": "code",
        "colab": {
          "base_uri": "https://localhost:8080/",
          "height": 50
        },
        "outputId": "c5e20b5c-0c12-4f5a-e367-4532e4d123fd"
      },
      "source": [
        "cd \"my Drive\"/"
      ],
      "execution_count": 2,
      "outputs": [
        {
          "output_type": "stream",
          "text": [
            "[Errno 2] No such file or directory: 'my Drive/'\n",
            "/content\n"
          ],
          "name": "stdout"
        }
      ]
    },
    {
      "cell_type": "code",
      "metadata": {
        "id": "nrRKinzlc9V3",
        "colab_type": "code",
        "colab": {
          "base_uri": "https://localhost:8080/",
          "height": 101
        },
        "outputId": "c41afc01-0a11-4773-87c6-7313b73ad809"
      },
      "source": [
        "ls"
      ],
      "execution_count": 35,
      "outputs": [
        {
          "output_type": "stream",
          "text": [
            "jla.dataset            JLA.paramnames         jla_v0_covmatrix.dat\n",
            "jla_lcparams.txt       jla_simple.dataset     jla_vab_covmatrix.dat\n",
            "jla_mub_covmatrix.dat  jla_simple.dataset~    jla_va_covmatrix.dat\n",
            "jla_mub.txt            jla_v0a_covmatrix.dat  jla_vb_covmatrix.dat\n",
            "jla_mub.txt~           jla_v0b_covmatrix.dat\n"
          ],
          "name": "stdout"
        }
      ]
    },
    {
      "cell_type": "code",
      "metadata": {
        "id": "pXqPqk8Ac992",
        "colab_type": "code",
        "colab": {
          "base_uri": "https://localhost:8080/",
          "height": 50
        },
        "outputId": "56477fc1-c1e6-4d44-d467-e36b310de278"
      },
      "source": [
        "cd \"My Drive\"/"
      ],
      "execution_count": 36,
      "outputs": [
        {
          "output_type": "stream",
          "text": [
            "[Errno 2] No such file or directory: 'My Drive/'\n",
            "/content/drive/My Drive/dsps2019/jla_likelihood_v6/data\n"
          ],
          "name": "stdout"
        }
      ]
    },
    {
      "cell_type": "code",
      "metadata": {
        "id": "MXsKIFIWdDYx",
        "colab_type": "code",
        "colab": {
          "base_uri": "https://localhost:8080/",
          "height": 1000
        },
        "outputId": "cc1533b9-4dc5-4939-a3b8-3b20fccc3447"
      },
      "source": [
        "ls"
      ],
      "execution_count": 13,
      "outputs": [
        {
          "output_type": "stream",
          "text": [
            "'02 16 19 actions we need to respond to .gdoc'\n",
            "'10th 11th and 12th level magic. .docx'\n",
            "'10th 11th and 12th level magic. .gdoc'\n",
            "'7002_Rent updated elliott.xlsx'\n",
            "'Abrograil thrune II.gdoc'\n",
            "'Activity time materials list curriculum.gdoc'\n",
            "'Adventurer class.gdoc'\n",
            "'Aegis of virtue.gdoc'\n",
            "'Aiden Lu report 2019.gdoc'\n",
            "' Alberron report 2019.gdoc'\n",
            "'Alex Choi Report 2019.gdoc'\n",
            "'Apartment Rules 2018.gdoc'\n",
            "'averret link.gdoc'\n",
            "\"billy's game 2 electric bu.gdoc\"\n",
            "'boons owed.gdoc'\n",
            "'Brendan Xue Report 2019.gdoc'\n",
            "'Caladblog and Nirvana.gdoc'\n",
            "'Callie Mihal boon documents.gsheet'\n",
            "'Callie mihal campaign notes and sheet .gdoc'\n",
            "'Callie mihal notes and sheet.gdoc'\n",
            "'Celestia character sheet.gsheet'\n",
            " Charms.gdoc\n",
            "'CISC 220.gdoc'\n",
            "\u001b[0m\u001b[01;34m'Colab Notebooks'\u001b[0m/\n",
            "'Colleen vorlesh.gdoc'\n",
            "'Copy of Blank Character Sheet.gform'\n",
            "'Copy of Blank Character Sheet.gsheet'\n",
            "'Copy of D&D5e Character Creator.gsheet'\n",
            "'Copy of Elliott Character Sheet(harold'\\''s game).gsheet'\n",
            "'Copy of History 102 Notes Elliott.gdoc'\n",
            "'Copy of New plans.gdoc'\n",
            "'Copy of Ravnica conflict resolution system.gdoc'\n",
            "'Copy of Ravnica influence scale 1-5.gdoc'\n",
            "'Copy of Staff Training Schedule 2019.gdoc'\n",
            " Course_Worksheet.xlsx\n",
            "'Cyrus black(Elliott'\\''s sheet dave'\\''s game).gdoc'\n",
            "'Dangerous world wound inhabitants.gdoc'\n",
            " \u001b[01;34mdata\u001b[0m/\n",
            "'December Game.gdoc'\n",
            "'Diana pirate campaign.gdoc'\n",
            "'Dilan Johnson report.gdoc'\n",
            " \u001b[01;34mdsps2019\u001b[0m/\n",
            "'edited rituals.gdoc'\n",
            "'Edith studios.gdoc'\n",
            "'Elliott Copy of Staff Training Schedule 2019.gdoc'\n",
            "'Elliott Debts.gsheet'\n",
            "'Elliott Jones Contract.doc'\n",
            "'Elliott Jones JP106 HW 9.8.2017 workbook pgs 45-48.docx'\n",
            "'Elliott Jones PHYS 211 lab 1_graded.docx'\n",
            "'Elliott Larp notes.gdoc'\n",
            "'Emergency Contact Form.doc.gdoc'\n",
            " Energy_and_Water_Data_Disclosure_for_Local_Law_84_2017__Data_for_Calendar_Year_2016_.csv\n",
            " Energy_and_Water_Data_Disclosure_for_Local_Law_84_2017__Data_for_Calendar_Year_2016_.gsheet\n",
            " \u001b[01;34mENGL\u001b[0m/\n",
            "'Engl 280 group work.gdoc'\n",
            " Essay.gdoc\n",
            "'Final session rise of the archdevils.gdoc'\n",
            "'final sheet.gdoc'\n",
            "'Fred leopold.gdoc'\n",
            "'Galadrim fall 2019 Session zero topics and players.gdoc'\n",
            "'Galadrim form .gform'\n",
            "'Galadrim Survey.gform'\n",
            "'Gelila Mesfin report.gdoc'\n",
            "'Githrazi old man monk.gdoc'\n",
            " Glasya.gdoc\n",
            "'God rules.gdoc'\n",
            "\u001b[01;34m'Grandad Voice Recordings '\u001b[0m/\n",
            "'Great B.gdoc'\n",
            " grinding.png\n",
            "'Gruug reed.gdoc'\n",
            "'guildmaster character creation rules.gdoc'\n",
            "\u001b[01;34m\"Harold's game Docs\"\u001b[0m/\n",
            "\"Hi ausilio I'm Dad.gdoc\"\n",
            "'high level charachter template.gdoc'\n",
            "'HIST 325 WW II Japan .gdoc'\n",
            "'History 102 exam 2 timeline.gdoc'\n",
            "'HW 5.gsheet'\n",
            "'Ian Copy of Revised Early Neonate.docx.gdoc'\n",
            "'Ileosa Arabasti.gdoc'\n",
            "'Ishaan Chawla report.gdoc'\n",
            "'jack dare.gdoc'\n",
            "'Jin mori.gdoc'\n",
            "'Jones Elliott 201609080004020488.pdf'\n",
            "'Kaiba buff set up 5e.gdoc'\n",
            "'Katalyssa iyis.gdoc'\n",
            " kingsman.gdoc\n",
            "'kupala contract.gdoc'\n",
            "\u001b[01;34m'lab 1'\u001b[0m/\n",
            "\u001b[01;34m'Lab 2 Math 243'\u001b[0m/\n",
            "'lab 4 math 243 ELLIOTT JONES.nb'\n",
            "'LAB 5 math 243 Elliott Jones.nb'\n",
            "'Lab7 - Rotational Motion Data.xlsx'\n",
            "'LAB REPORT 3 ELLIOTT JONES MATH 243.nb'\n",
            "'Lead teacher notes.gdoc'\n",
            "'letter to the unconquered sun.gdoc'\n",
            "'Leylin pathifnder character sheet.gdoc'\n",
            "'Little Fang.gdoc'\n",
            "'Madrid expenses.gsheet'\n",
            "'Maintaining Good Academic Standing 16S.pdf'\n",
            "'more artificer ideas.gdoc'\n",
            "'MP System background.gdoc'\n",
            "'MP system pathfinder Game start notes.gdoc'\n",
            "'Mythic storylines.gdoc'\n",
            "'Neon nights faq.gdoc'\n",
            "'Neon Nights Research.gdoc'\n",
            "'Neon night Wiki changes.gdoc'\n",
            "'New charms.gdoc'\n",
            "'New Orleans by Night.pdf'\n",
            "'New Performance charms for Yuna.gdoc'\n",
            "'NEWS 12 15 18.gdoc'\n",
            "'News 3 23 19.gdoc'\n",
            "'NEWS 6-29 NOT FUCKED UP YOU MORON.docx'\n",
            "'NEWS 6-29 NOT FUCKED UP YOU MORON.gdoc'\n",
            "'News character sheet.gdoc'\n",
            " PathfinderCampaignSettingTheFirstWorldRealmOfTheFeyPFRPGPDF-SingleFile.zip\n",
            "'Pathfinder Wizard 2017 - Leto Zalustra.xlsx'\n",
            "'Pathfinder Wizard 2017 - Leto Zalustra.xlsx.gsheet'\n",
            "'PHYS 169 demo elliott jones.pptx'\n",
            "\u001b[01;34m'PHYS 208 Labs Winter session'\u001b[0m/\n",
            "'Phys 311 project A Elliott Jones.docx'\n",
            "'Phys 434.gdoc'\n",
            "'Player Mp system.gdoc'\n",
            "\"Queen's Forgiveness.gdoc\"\n",
            "'Rack the kid.gdoc'\n",
            "\"Ralph tzcimize ed's game.gdoc\"\n",
            "'Ravnica guildmaster action rules.gdoc'\n",
            "\u001b[01;34m'Ravnica larp rules'\u001b[0m/\n",
            "'Ravnica perliminary characters.gdoc'\n",
            "'Ravnica plot document.gdoc'\n",
            "\u001b[01;34m'Rent 7002'\u001b[0m/\n",
            "'Report  overview .gdoc'\n",
            " ResPrintOut-EmailOW.pdf\n",
            "'Rings of the watchers .gdoc'\n",
            "'Ritz Character sheet.gdoc'\n",
            "'Ritz’s big checklist .gdoc'\n",
            "'Ritz spells .gdoc'\n",
            "'Runelord sorshen.gdoc'\n",
            "'Sage gillig Report.gdoc'\n",
            "\"Sebastian san gupta Tasker Gary's Gam.gdoc\"\n",
            "\u001b[01;34m'Solar 2e character conversions'\u001b[0m/\n",
            "'Solar deliberative.gdoc'\n",
            "'Sun and bloom.gdoc'\n",
            "'Suteki \"silverwing\" Shuyin.gdoc'\n",
            "'Take 2 curriculum notes 2019.gdoc'\n",
            "'Take2 Parent Seminar Invitation 2016.pdf'\n",
            "'Tasker i game 9 attributes.gdoc'\n",
            " \u001b[01;34mtest_dir\u001b[0m/\n",
            "'The black butterfly(awakened burnt saffron).gdoc'\n",
            "'the realm plan.gdoc'\n",
            "'Unlimited blade works.gdoc'\n",
            "'Untitled document (1).gdoc'\n",
            "'Untitled document (2).gdoc'\n",
            "'Untitled document (3).gdoc'\n",
            "'Untitled document (4).gdoc'\n",
            "'Untitled document.gdoc'\n",
            "\u001b[01;34m'Untitled folder'\u001b[0m/\n",
            "'Untitled form.gform'\n",
            "'Untitled presentation.gslides'\n",
            "'Usurpation charms.gdoc'\n",
            "'V1_Day8_Mission_Thinking About You Review_Materials.ppt'\n",
            "'Vacation planning list.doc.gdoc'\n",
            "'Wraith plot plan.gdoc'\n",
            "\"yoh the guide felt's game.gdoc\"\n",
            "'Yosef Unell report.gdoc'\n",
            "'Yuna Kisu, Fatemuse.gdoc'\n"
          ],
          "name": "stdout"
        }
      ]
    },
    {
      "cell_type": "code",
      "metadata": {
        "id": "-dr8B20XdE_g",
        "colab_type": "code",
        "colab": {
          "base_uri": "https://localhost:8080/",
          "height": 34
        },
        "outputId": "7066e5ba-d9c1-43db-8041-1d9c3751eab4"
      },
      "source": [
        "cd dsps2019/"
      ],
      "execution_count": 14,
      "outputs": [
        {
          "output_type": "stream",
          "text": [
            "/content/drive/My Drive/dsps2019\n"
          ],
          "name": "stdout"
        }
      ]
    },
    {
      "cell_type": "code",
      "metadata": {
        "id": "GHtIU43VeQ76",
        "colab_type": "code",
        "colab": {
          "base_uri": "https://localhost:8080/",
          "height": 34
        },
        "outputId": "1cb57c2e-3245-41ae-a285-d218f1bd6a54"
      },
      "source": [
        "ls"
      ],
      "execution_count": 8,
      "outputs": [
        {
          "output_type": "stream",
          "text": [
            "jla_cosmo_v2.tgz\n"
          ],
          "name": "stdout"
        }
      ]
    },
    {
      "cell_type": "code",
      "metadata": {
        "id": "ABMxsZO2eThB",
        "colab_type": "code",
        "colab": {
          "base_uri": "https://localhost:8080/",
          "height": 202
        },
        "outputId": "b5b2605b-d0f9-4410-f64e-2f004b0987bd"
      },
      "source": [
        "!wget \"http://supernovae.in2p3.fr/sdss_snls_jla/jla_likelihood_v6.tgz\""
      ],
      "execution_count": 15,
      "outputs": [
        {
          "output_type": "stream",
          "text": [
            "--2019-10-20 21:55:54--  http://supernovae.in2p3.fr/sdss_snls_jla/jla_likelihood_v6.tgz\n",
            "Resolving supernovae.in2p3.fr (supernovae.in2p3.fr)... 134.158.152.153\n",
            "Connecting to supernovae.in2p3.fr (supernovae.in2p3.fr)|134.158.152.153|:80... connected.\n",
            "HTTP request sent, awaiting response... 200 OK\n",
            "Length: 23716633 (23M) [application/x-gzip]\n",
            "Saving to: ‘jla_likelihood_v6.tgz.1’\n",
            "\n",
            "jla_likelihood_v6.t 100%[===================>]  22.62M  30.3MB/s    in 0.7s    \n",
            "\n",
            "2019-10-20 21:55:54 (30.3 MB/s) - ‘jla_likelihood_v6.tgz.1’ saved [23716633/23716633]\n",
            "\n"
          ],
          "name": "stdout"
        }
      ]
    },
    {
      "cell_type": "code",
      "metadata": {
        "id": "N8XrmuLnfTK9",
        "colab_type": "code",
        "colab": {
          "base_uri": "https://localhost:8080/",
          "height": 50
        },
        "outputId": "8a58de9b-c179-42b3-b127-ba59b09c2a0f"
      },
      "source": [
        "ls"
      ],
      "execution_count": 16,
      "outputs": [
        {
          "output_type": "stream",
          "text": [
            "jla_cosmo_v2.tgz    jla_likelihood_v6.tgz\n",
            "\u001b[0m\u001b[01;34mjla_likelihood_v6\u001b[0m/  jla_likelihood_v6.tgz.1\n"
          ],
          "name": "stdout"
        }
      ]
    },
    {
      "cell_type": "code",
      "metadata": {
        "id": "6GMiG6qkfU_3",
        "colab_type": "code",
        "colab": {
          "base_uri": "https://localhost:8080/",
          "height": 437
        },
        "outputId": "47fe5809-15a2-43dc-8534-387d6abbb2d4"
      },
      "source": [
        "!tar -xzvf jla_likelihood_v6.tgz"
      ],
      "execution_count": 19,
      "outputs": [
        {
          "output_type": "stream",
          "text": [
            "jla_likelihood_v6/src/ini.o\n",
            "jla_likelihood_v6/src/ini.h\n",
            "jla_likelihood_v6/src/jla.cc\n",
            "jla_likelihood_v6/src/ini.c\n",
            "jla_likelihood_v6/src/jla.o\n",
            "jla_likelihood_v6/src/test.cc\n",
            "jla_likelihood_v6/src/jla.h\n",
            "jla_likelihood_v6/src/test.o\n",
            "jla_likelihood_v6/makefile\n",
            "jla_likelihood_v6/data/jla_v0b_covmatrix.dat\n",
            "jla_likelihood_v6/data/jla_mub_covmatrix.dat\n",
            "jla_likelihood_v6/data/jla_v0_covmatrix.dat\n",
            "jla_likelihood_v6/data/jla_mub.txt~\n",
            "jla_likelihood_v6/data/jla_vab_covmatrix.dat\n",
            "jla_likelihood_v6/data/JLA.paramnames\n",
            "jla_likelihood_v6/data/jla.dataset\n",
            "jla_likelihood_v6/data/jla_va_covmatrix.dat\n",
            "jla_likelihood_v6/data/jla_mub.txt\n",
            "jla_likelihood_v6/data/jla_lcparams.txt\n",
            "jla_likelihood_v6/data/jla_simple.dataset~\n",
            "jla_likelihood_v6/data/jla_vb_covmatrix.dat\n",
            "jla_likelihood_v6/data/jla_v0a_covmatrix.dat\n",
            "jla_likelihood_v6/data/jla_simple.dataset\n",
            "jla_likelihood_v6/ReadMe.txt\n",
            "jla_likelihood_v6/LICENSE.txt\n"
          ],
          "name": "stdout"
        }
      ]
    },
    {
      "cell_type": "code",
      "metadata": {
        "id": "gYCo9W7vffI2",
        "colab_type": "code",
        "colab": {
          "base_uri": "https://localhost:8080/",
          "height": 50
        },
        "outputId": "d1746da1-8de0-4e45-b128-e9657e4788ca"
      },
      "source": [
        "ls"
      ],
      "execution_count": 20,
      "outputs": [
        {
          "output_type": "stream",
          "text": [
            "jla_cosmo_v2.tgz    jla_likelihood_v6.tgz\n",
            "\u001b[0m\u001b[01;34mjla_likelihood_v6\u001b[0m/  jla_likelihood_v6.tgz.1\n"
          ],
          "name": "stdout"
        }
      ]
    },
    {
      "cell_type": "code",
      "metadata": {
        "id": "697KsTJbfpIJ",
        "colab_type": "code",
        "colab": {
          "base_uri": "https://localhost:8080/",
          "height": 50
        },
        "outputId": "3f3a4700-6699-40e4-87d8-234a5ac3de4c"
      },
      "source": [
        "cd \"jla_likelihood_v6\"/"
      ],
      "execution_count": 5,
      "outputs": [
        {
          "output_type": "stream",
          "text": [
            "[Errno 2] No such file or directory: 'jla_likelihood_v6/'\n",
            "/content\n"
          ],
          "name": "stdout"
        }
      ]
    },
    {
      "cell_type": "code",
      "metadata": {
        "id": "c-iYpxsnGVUZ",
        "colab_type": "code",
        "colab": {
          "base_uri": "https://localhost:8080/",
          "height": 34
        },
        "outputId": "f65516a0-f53f-4e47-a2e7-136cd6b46d77"
      },
      "source": [
        "ls"
      ],
      "execution_count": 6,
      "outputs": [
        {
          "output_type": "stream",
          "text": [
            "\u001b[0m\u001b[01;34mdrive\u001b[0m/  \u001b[01;34msample_data\u001b[0m/\n"
          ],
          "name": "stdout"
        }
      ]
    },
    {
      "cell_type": "code",
      "metadata": {
        "id": "5KobHdgYSZVy",
        "colab_type": "code",
        "colab": {
          "base_uri": "https://localhost:8080/",
          "height": 34
        },
        "outputId": "deed3697-f810-47c8-ce5a-7cbb7d2a798c"
      },
      "source": [
        "cd drive"
      ],
      "execution_count": 9,
      "outputs": [
        {
          "output_type": "stream",
          "text": [
            "/content/drive\n"
          ],
          "name": "stdout"
        }
      ]
    },
    {
      "cell_type": "code",
      "metadata": {
        "id": "jW59G5ccSbke",
        "colab_type": "code",
        "colab": {
          "base_uri": "https://localhost:8080/",
          "height": 34
        },
        "outputId": "932ed4ea-0603-4d20-9c10-9749d38ff036"
      },
      "source": [
        "ls"
      ],
      "execution_count": 10,
      "outputs": [
        {
          "output_type": "stream",
          "text": [
            "\u001b[0m\u001b[01;34m'My Drive'\u001b[0m/\n"
          ],
          "name": "stdout"
        }
      ]
    },
    {
      "cell_type": "code",
      "metadata": {
        "id": "StIXjVkbScUA",
        "colab_type": "code",
        "colab": {
          "base_uri": "https://localhost:8080/",
          "height": 370
        },
        "outputId": "9abe3ff8-b2e5-46f4-84be-0952935e8f1f"
      },
      "source": [
        "\n",
        "jla = pd.read_csv(\"dsps2019/jla_likelihood_v6/data/jla_lcparams.txt\", sep=\" \")"
      ],
      "execution_count": 11,
      "outputs": [
        {
          "output_type": "error",
          "ename": "FileNotFoundError",
          "evalue": "ignored",
          "traceback": [
            "\u001b[0;31m---------------------------------------------------------------------------\u001b[0m",
            "\u001b[0;31mFileNotFoundError\u001b[0m                         Traceback (most recent call last)",
            "\u001b[0;32m<ipython-input-11-9a39bf29aedc>\u001b[0m in \u001b[0;36m<module>\u001b[0;34m()\u001b[0m\n\u001b[0;32m----> 1\u001b[0;31m \u001b[0mjla\u001b[0m \u001b[0;34m=\u001b[0m \u001b[0mpd\u001b[0m\u001b[0;34m.\u001b[0m\u001b[0mread_csv\u001b[0m\u001b[0;34m(\u001b[0m\u001b[0;34m\"dsps2019/jla_likelihood_v6/data/jla_lcparams.txt\"\u001b[0m\u001b[0;34m,\u001b[0m \u001b[0msep\u001b[0m\u001b[0;34m=\u001b[0m\u001b[0;34m\" \"\u001b[0m\u001b[0;34m)\u001b[0m\u001b[0;34m\u001b[0m\u001b[0;34m\u001b[0m\u001b[0m\n\u001b[0m",
            "\u001b[0;32m/usr/local/lib/python3.6/dist-packages/pandas/io/parsers.py\u001b[0m in \u001b[0;36mparser_f\u001b[0;34m(filepath_or_buffer, sep, delimiter, header, names, index_col, usecols, squeeze, prefix, mangle_dupe_cols, dtype, engine, converters, true_values, false_values, skipinitialspace, skiprows, skipfooter, nrows, na_values, keep_default_na, na_filter, verbose, skip_blank_lines, parse_dates, infer_datetime_format, keep_date_col, date_parser, dayfirst, iterator, chunksize, compression, thousands, decimal, lineterminator, quotechar, quoting, doublequote, escapechar, comment, encoding, dialect, tupleize_cols, error_bad_lines, warn_bad_lines, delim_whitespace, low_memory, memory_map, float_precision)\u001b[0m\n\u001b[1;32m    700\u001b[0m                     skip_blank_lines=skip_blank_lines)\n\u001b[1;32m    701\u001b[0m \u001b[0;34m\u001b[0m\u001b[0m\n\u001b[0;32m--> 702\u001b[0;31m         \u001b[0;32mreturn\u001b[0m \u001b[0m_read\u001b[0m\u001b[0;34m(\u001b[0m\u001b[0mfilepath_or_buffer\u001b[0m\u001b[0;34m,\u001b[0m \u001b[0mkwds\u001b[0m\u001b[0;34m)\u001b[0m\u001b[0;34m\u001b[0m\u001b[0;34m\u001b[0m\u001b[0m\n\u001b[0m\u001b[1;32m    703\u001b[0m \u001b[0;34m\u001b[0m\u001b[0m\n\u001b[1;32m    704\u001b[0m     \u001b[0mparser_f\u001b[0m\u001b[0;34m.\u001b[0m\u001b[0m__name__\u001b[0m \u001b[0;34m=\u001b[0m \u001b[0mname\u001b[0m\u001b[0;34m\u001b[0m\u001b[0;34m\u001b[0m\u001b[0m\n",
            "\u001b[0;32m/usr/local/lib/python3.6/dist-packages/pandas/io/parsers.py\u001b[0m in \u001b[0;36m_read\u001b[0;34m(filepath_or_buffer, kwds)\u001b[0m\n\u001b[1;32m    427\u001b[0m \u001b[0;34m\u001b[0m\u001b[0m\n\u001b[1;32m    428\u001b[0m     \u001b[0;31m# Create the parser.\u001b[0m\u001b[0;34m\u001b[0m\u001b[0;34m\u001b[0m\u001b[0;34m\u001b[0m\u001b[0m\n\u001b[0;32m--> 429\u001b[0;31m     \u001b[0mparser\u001b[0m \u001b[0;34m=\u001b[0m \u001b[0mTextFileReader\u001b[0m\u001b[0;34m(\u001b[0m\u001b[0mfilepath_or_buffer\u001b[0m\u001b[0;34m,\u001b[0m \u001b[0;34m**\u001b[0m\u001b[0mkwds\u001b[0m\u001b[0;34m)\u001b[0m\u001b[0;34m\u001b[0m\u001b[0;34m\u001b[0m\u001b[0m\n\u001b[0m\u001b[1;32m    430\u001b[0m \u001b[0;34m\u001b[0m\u001b[0m\n\u001b[1;32m    431\u001b[0m     \u001b[0;32mif\u001b[0m \u001b[0mchunksize\u001b[0m \u001b[0;32mor\u001b[0m \u001b[0miterator\u001b[0m\u001b[0;34m:\u001b[0m\u001b[0;34m\u001b[0m\u001b[0;34m\u001b[0m\u001b[0m\n",
            "\u001b[0;32m/usr/local/lib/python3.6/dist-packages/pandas/io/parsers.py\u001b[0m in \u001b[0;36m__init__\u001b[0;34m(self, f, engine, **kwds)\u001b[0m\n\u001b[1;32m    893\u001b[0m             \u001b[0mself\u001b[0m\u001b[0;34m.\u001b[0m\u001b[0moptions\u001b[0m\u001b[0;34m[\u001b[0m\u001b[0;34m'has_index_names'\u001b[0m\u001b[0;34m]\u001b[0m \u001b[0;34m=\u001b[0m \u001b[0mkwds\u001b[0m\u001b[0;34m[\u001b[0m\u001b[0;34m'has_index_names'\u001b[0m\u001b[0;34m]\u001b[0m\u001b[0;34m\u001b[0m\u001b[0;34m\u001b[0m\u001b[0m\n\u001b[1;32m    894\u001b[0m \u001b[0;34m\u001b[0m\u001b[0m\n\u001b[0;32m--> 895\u001b[0;31m         \u001b[0mself\u001b[0m\u001b[0;34m.\u001b[0m\u001b[0m_make_engine\u001b[0m\u001b[0;34m(\u001b[0m\u001b[0mself\u001b[0m\u001b[0;34m.\u001b[0m\u001b[0mengine\u001b[0m\u001b[0;34m)\u001b[0m\u001b[0;34m\u001b[0m\u001b[0;34m\u001b[0m\u001b[0m\n\u001b[0m\u001b[1;32m    896\u001b[0m \u001b[0;34m\u001b[0m\u001b[0m\n\u001b[1;32m    897\u001b[0m     \u001b[0;32mdef\u001b[0m \u001b[0mclose\u001b[0m\u001b[0;34m(\u001b[0m\u001b[0mself\u001b[0m\u001b[0;34m)\u001b[0m\u001b[0;34m:\u001b[0m\u001b[0;34m\u001b[0m\u001b[0;34m\u001b[0m\u001b[0m\n",
            "\u001b[0;32m/usr/local/lib/python3.6/dist-packages/pandas/io/parsers.py\u001b[0m in \u001b[0;36m_make_engine\u001b[0;34m(self, engine)\u001b[0m\n\u001b[1;32m   1120\u001b[0m     \u001b[0;32mdef\u001b[0m \u001b[0m_make_engine\u001b[0m\u001b[0;34m(\u001b[0m\u001b[0mself\u001b[0m\u001b[0;34m,\u001b[0m \u001b[0mengine\u001b[0m\u001b[0;34m=\u001b[0m\u001b[0;34m'c'\u001b[0m\u001b[0;34m)\u001b[0m\u001b[0;34m:\u001b[0m\u001b[0;34m\u001b[0m\u001b[0;34m\u001b[0m\u001b[0m\n\u001b[1;32m   1121\u001b[0m         \u001b[0;32mif\u001b[0m \u001b[0mengine\u001b[0m \u001b[0;34m==\u001b[0m \u001b[0;34m'c'\u001b[0m\u001b[0;34m:\u001b[0m\u001b[0;34m\u001b[0m\u001b[0;34m\u001b[0m\u001b[0m\n\u001b[0;32m-> 1122\u001b[0;31m             \u001b[0mself\u001b[0m\u001b[0;34m.\u001b[0m\u001b[0m_engine\u001b[0m \u001b[0;34m=\u001b[0m \u001b[0mCParserWrapper\u001b[0m\u001b[0;34m(\u001b[0m\u001b[0mself\u001b[0m\u001b[0;34m.\u001b[0m\u001b[0mf\u001b[0m\u001b[0;34m,\u001b[0m \u001b[0;34m**\u001b[0m\u001b[0mself\u001b[0m\u001b[0;34m.\u001b[0m\u001b[0moptions\u001b[0m\u001b[0;34m)\u001b[0m\u001b[0;34m\u001b[0m\u001b[0;34m\u001b[0m\u001b[0m\n\u001b[0m\u001b[1;32m   1123\u001b[0m         \u001b[0;32melse\u001b[0m\u001b[0;34m:\u001b[0m\u001b[0;34m\u001b[0m\u001b[0;34m\u001b[0m\u001b[0m\n\u001b[1;32m   1124\u001b[0m             \u001b[0;32mif\u001b[0m \u001b[0mengine\u001b[0m \u001b[0;34m==\u001b[0m \u001b[0;34m'python'\u001b[0m\u001b[0;34m:\u001b[0m\u001b[0;34m\u001b[0m\u001b[0;34m\u001b[0m\u001b[0m\n",
            "\u001b[0;32m/usr/local/lib/python3.6/dist-packages/pandas/io/parsers.py\u001b[0m in \u001b[0;36m__init__\u001b[0;34m(self, src, **kwds)\u001b[0m\n\u001b[1;32m   1851\u001b[0m         \u001b[0mkwds\u001b[0m\u001b[0;34m[\u001b[0m\u001b[0;34m'usecols'\u001b[0m\u001b[0;34m]\u001b[0m \u001b[0;34m=\u001b[0m \u001b[0mself\u001b[0m\u001b[0;34m.\u001b[0m\u001b[0musecols\u001b[0m\u001b[0;34m\u001b[0m\u001b[0;34m\u001b[0m\u001b[0m\n\u001b[1;32m   1852\u001b[0m \u001b[0;34m\u001b[0m\u001b[0m\n\u001b[0;32m-> 1853\u001b[0;31m         \u001b[0mself\u001b[0m\u001b[0;34m.\u001b[0m\u001b[0m_reader\u001b[0m \u001b[0;34m=\u001b[0m \u001b[0mparsers\u001b[0m\u001b[0;34m.\u001b[0m\u001b[0mTextReader\u001b[0m\u001b[0;34m(\u001b[0m\u001b[0msrc\u001b[0m\u001b[0;34m,\u001b[0m \u001b[0;34m**\u001b[0m\u001b[0mkwds\u001b[0m\u001b[0;34m)\u001b[0m\u001b[0;34m\u001b[0m\u001b[0;34m\u001b[0m\u001b[0m\n\u001b[0m\u001b[1;32m   1854\u001b[0m         \u001b[0mself\u001b[0m\u001b[0;34m.\u001b[0m\u001b[0munnamed_cols\u001b[0m \u001b[0;34m=\u001b[0m \u001b[0mself\u001b[0m\u001b[0;34m.\u001b[0m\u001b[0m_reader\u001b[0m\u001b[0;34m.\u001b[0m\u001b[0munnamed_cols\u001b[0m\u001b[0;34m\u001b[0m\u001b[0;34m\u001b[0m\u001b[0m\n\u001b[1;32m   1855\u001b[0m \u001b[0;34m\u001b[0m\u001b[0m\n",
            "\u001b[0;32mpandas/_libs/parsers.pyx\u001b[0m in \u001b[0;36mpandas._libs.parsers.TextReader.__cinit__\u001b[0;34m()\u001b[0m\n",
            "\u001b[0;32mpandas/_libs/parsers.pyx\u001b[0m in \u001b[0;36mpandas._libs.parsers.TextReader._setup_parser_source\u001b[0;34m()\u001b[0m\n",
            "\u001b[0;31mFileNotFoundError\u001b[0m: [Errno 2] File b'dsps2019/jla_likelihood_v6/data/jla_lcparams.txt' does not exist: b'dsps2019/jla_likelihood_v6/data/jla_lcparams.txt'"
          ]
        }
      ]
    },
    {
      "cell_type": "code",
      "metadata": {
        "id": "-ulmpbren4jZ",
        "colab_type": "code",
        "colab": {
          "base_uri": "https://localhost:8080/",
          "height": 34
        },
        "outputId": "97831260-1318-4d79-b7f7-7f9d794472c5"
      },
      "source": [
        "cd \"My Drive\""
      ],
      "execution_count": 12,
      "outputs": [
        {
          "output_type": "stream",
          "text": [
            "/content/drive/My Drive\n"
          ],
          "name": "stdout"
        }
      ]
    },
    {
      "cell_type": "code",
      "metadata": {
        "id": "qOmXAoFASpBs",
        "colab_type": "code",
        "colab": {
          "base_uri": "https://localhost:8080/",
          "height": 1000
        },
        "outputId": "e16b9ff1-f85f-4d67-e49a-af4948c508cf"
      },
      "source": [
        "ls"
      ],
      "execution_count": 13,
      "outputs": [
        {
          "output_type": "stream",
          "text": [
            "'02 16 19 actions we need to respond to .gdoc'\n",
            "'10th 11th and 12th level magic. .docx'\n",
            "'10th 11th and 12th level magic. .gdoc'\n",
            "'7002_Rent updated elliott.xlsx'\n",
            "'Abrograil thrune II.gdoc'\n",
            "'Activity time materials list curriculum.gdoc'\n",
            "'Adventurer class.gdoc'\n",
            "'Aegis of virtue.gdoc'\n",
            "'Aiden Lu report 2019.gdoc'\n",
            "' Alberron report 2019.gdoc'\n",
            "'Alex Choi Report 2019.gdoc'\n",
            "'Apartment Rules 2018.gdoc'\n",
            "'averret link.gdoc'\n",
            "\"billy's game 2 electric bu.gdoc\"\n",
            "'boons owed.gdoc'\n",
            "'Brendan Xue Report 2019.gdoc'\n",
            "'Caladblog and Nirvana.gdoc'\n",
            "'Callie Mihal boon documents.gsheet'\n",
            "'Callie mihal campaign notes and sheet .gdoc'\n",
            "'Callie mihal notes and sheet.gdoc'\n",
            "'Celestia character sheet.gsheet'\n",
            " Charms.gdoc\n",
            "'CISC 220.gdoc'\n",
            "\u001b[0m\u001b[01;34m'Colab Notebooks'\u001b[0m/\n",
            "'Colleen vorlesh.gdoc'\n",
            "'Copy of Blank Character Sheet.gform'\n",
            "'Copy of Blank Character Sheet.gsheet'\n",
            "'Copy of D&D5e Character Creator.gsheet'\n",
            "'Copy of Elliott Character Sheet(harold'\\''s game).gsheet'\n",
            "'Copy of History 102 Notes Elliott.gdoc'\n",
            "'Copy of New plans.gdoc'\n",
            "'Copy of Ravnica conflict resolution system.gdoc'\n",
            "'Copy of Ravnica influence scale 1-5.gdoc'\n",
            "'Copy of Staff Training Schedule 2019.gdoc'\n",
            " Course_Worksheet.xlsx\n",
            "'Cyrus black(Elliott'\\''s sheet dave'\\''s game).gdoc'\n",
            "'Dangerous world wound inhabitants.gdoc'\n",
            " \u001b[01;34mdata\u001b[0m/\n",
            "'December Game.gdoc'\n",
            "'Diana pirate campaign.gdoc'\n",
            "'Dilan Johnson report.gdoc'\n",
            " \u001b[01;34mdsps2019\u001b[0m/\n",
            "'edited rituals.gdoc'\n",
            "'Edith studios.gdoc'\n",
            "'Elliott Copy of Staff Training Schedule 2019.gdoc'\n",
            "'Elliott Debts.gsheet'\n",
            "'Elliott Jones Contract.doc'\n",
            "'Elliott Jones JP106 HW 9.8.2017 workbook pgs 45-48.docx'\n",
            "'Elliott Jones PHYS 211 lab 1_graded.docx'\n",
            "'Elliott Larp notes.gdoc'\n",
            "'Emergency Contact Form.doc.gdoc'\n",
            " Energy_and_Water_Data_Disclosure_for_Local_Law_84_2017__Data_for_Calendar_Year_2016_.csv\n",
            " Energy_and_Water_Data_Disclosure_for_Local_Law_84_2017__Data_for_Calendar_Year_2016_.gsheet\n",
            " \u001b[01;34mENGL\u001b[0m/\n",
            "'Engl 280 group work.gdoc'\n",
            " Essay.gdoc\n",
            "'Final session rise of the archdevils.gdoc'\n",
            "'final sheet.gdoc'\n",
            "'Fred leopold.gdoc'\n",
            "'Galadrim fall 2019 Session zero topics and players.gdoc'\n",
            "'Galadrim form .gform'\n",
            "'Galadrim Survey.gform'\n",
            "'Gelila Mesfin report.gdoc'\n",
            "'Githrazi old man monk.gdoc'\n",
            " Glasya.gdoc\n",
            "'God rules.gdoc'\n",
            "\u001b[01;34m'Grandad Voice Recordings '\u001b[0m/\n",
            "'Great B.gdoc'\n",
            " grinding.png\n",
            "'Gruug reed.gdoc'\n",
            "'guildmaster character creation rules.gdoc'\n",
            "\u001b[01;34m\"Harold's game Docs\"\u001b[0m/\n",
            "\"Hi ausilio I'm Dad.gdoc\"\n",
            "'high level charachter template.gdoc'\n",
            "'HIST 325 WW II Japan .gdoc'\n",
            "'History 102 exam 2 timeline.gdoc'\n",
            "'HW 5.gsheet'\n",
            "'Ian Copy of Revised Early Neonate.docx.gdoc'\n",
            "'Ileosa Arabasti.gdoc'\n",
            "'Ishaan Chawla report.gdoc'\n",
            "'jack dare.gdoc'\n",
            "'Jin mori.gdoc'\n",
            "'Jones Elliott 201609080004020488.pdf'\n",
            "'Kaiba buff set up 5e.gdoc'\n",
            "'Katalyssa iyis.gdoc'\n",
            " kingsman.gdoc\n",
            "'kupala contract.gdoc'\n",
            "\u001b[01;34m'lab 1'\u001b[0m/\n",
            "\u001b[01;34m'Lab 2 Math 243'\u001b[0m/\n",
            "'lab 4 math 243 ELLIOTT JONES.nb'\n",
            "'LAB 5 math 243 Elliott Jones.nb'\n",
            "'Lab7 - Rotational Motion Data.xlsx'\n",
            "'LAB REPORT 3 ELLIOTT JONES MATH 243.nb'\n",
            "'Lead teacher notes.gdoc'\n",
            "'letter to the unconquered sun.gdoc'\n",
            "'Leylin pathifnder character sheet.gdoc'\n",
            "'Little Fang.gdoc'\n",
            "'Madrid expenses.gsheet'\n",
            "'Maintaining Good Academic Standing 16S.pdf'\n",
            "'more artificer ideas.gdoc'\n",
            "'MP System background.gdoc'\n",
            "'MP system pathfinder Game start notes.gdoc'\n",
            "'Mythic storylines.gdoc'\n",
            "'Neon nights faq.gdoc'\n",
            "'Neon Nights Research.gdoc'\n",
            "'Neon night Wiki changes.gdoc'\n",
            "'New charms.gdoc'\n",
            "'New Orleans by Night.pdf'\n",
            "'New Performance charms for Yuna.gdoc'\n",
            "'NEWS 12 15 18.gdoc'\n",
            "'News 3 23 19.gdoc'\n",
            "'NEWS 6-29 NOT FUCKED UP YOU MORON.docx'\n",
            "'NEWS 6-29 NOT FUCKED UP YOU MORON.gdoc'\n",
            "'News character sheet.gdoc'\n",
            " PathfinderCampaignSettingTheFirstWorldRealmOfTheFeyPFRPGPDF-SingleFile.zip\n",
            "'Pathfinder Wizard 2017 - Leto Zalustra.xlsx'\n",
            "'Pathfinder Wizard 2017 - Leto Zalustra.xlsx.gsheet'\n",
            "'PHYS 169 demo elliott jones.pptx'\n",
            "\u001b[01;34m'PHYS 208 Labs Winter session'\u001b[0m/\n",
            "'Phys 311 project A Elliott Jones.docx'\n",
            "'Phys 434.gdoc'\n",
            "'Player Mp system.gdoc'\n",
            "\"Queen's Forgiveness.gdoc\"\n",
            "'Rack the kid.gdoc'\n",
            "\"Ralph tzcimize ed's game.gdoc\"\n",
            "'Ravnica guildmaster action rules.gdoc'\n",
            "\u001b[01;34m'Ravnica larp rules'\u001b[0m/\n",
            "'Ravnica perliminary characters.gdoc'\n",
            "'Ravnica plot document.gdoc'\n",
            "\u001b[01;34m'Rent 7002'\u001b[0m/\n",
            "'Report  overview .gdoc'\n",
            " ResPrintOut-EmailOW.pdf\n",
            "'Rings of the watchers .gdoc'\n",
            "'Ritz Character sheet.gdoc'\n",
            "'Ritz’s big checklist .gdoc'\n",
            "'Ritz spells .gdoc'\n",
            "'Runelord sorshen.gdoc'\n",
            "'Sage gillig Report.gdoc'\n",
            "\"Sebastian san gupta Tasker Gary's Gam.gdoc\"\n",
            "\u001b[01;34m'Solar 2e character conversions'\u001b[0m/\n",
            "'Solar deliberative.gdoc'\n",
            "'Sun and bloom.gdoc'\n",
            "'Suteki \"silverwing\" Shuyin.gdoc'\n",
            "'Take 2 curriculum notes 2019.gdoc'\n",
            "'Take2 Parent Seminar Invitation 2016.pdf'\n",
            "'Tasker i game 9 attributes.gdoc'\n",
            " \u001b[01;34mtest_dir\u001b[0m/\n",
            "'The black butterfly(awakened burnt saffron).gdoc'\n",
            "'the realm plan.gdoc'\n",
            "'Unlimited blade works.gdoc'\n",
            "'Untitled document (1).gdoc'\n",
            "'Untitled document (2).gdoc'\n",
            "'Untitled document (3).gdoc'\n",
            "'Untitled document (4).gdoc'\n",
            "'Untitled document.gdoc'\n",
            "\u001b[01;34m'Untitled folder'\u001b[0m/\n",
            "'Untitled form.gform'\n",
            "'Untitled presentation.gslides'\n",
            "'Usurpation charms.gdoc'\n",
            "'V1_Day8_Mission_Thinking About You Review_Materials.ppt'\n",
            "'Vacation planning list.doc.gdoc'\n",
            "'Wraith plot plan.gdoc'\n",
            "\"yoh the guide felt's game.gdoc\"\n",
            "'Yosef Unell report.gdoc'\n",
            "'Yuna Kisu, Fatemuse.gdoc'\n"
          ],
          "name": "stdout"
        }
      ]
    },
    {
      "cell_type": "code",
      "metadata": {
        "id": "opuVM8THn7Da",
        "colab_type": "code",
        "colab": {
          "base_uri": "https://localhost:8080/",
          "height": 34
        },
        "outputId": "541fdaea-9f72-42c8-bf64-c74cf86253d1"
      },
      "source": [
        "cd jla_likelihood_v6/"
      ],
      "execution_count": 19,
      "outputs": [
        {
          "output_type": "stream",
          "text": [
            "/content/drive/My Drive/dsps2019/jla_likelihood_v6\n"
          ],
          "name": "stdout"
        }
      ]
    },
    {
      "cell_type": "code",
      "metadata": {
        "id": "7cUMXR-tn9Ex",
        "colab_type": "code",
        "colab": {}
      },
      "source": [
        "jla = pd.read_csv(\"data/jla_lcparams.txt\", sep=\" \")"
      ],
      "execution_count": 0,
      "outputs": []
    },
    {
      "cell_type": "code",
      "metadata": {
        "id": "DM5x7Ua2n_ZI",
        "colab_type": "code",
        "colab": {
          "base_uri": "https://localhost:8080/",
          "height": 215
        },
        "outputId": "eeed0679-fbe4-4594-b3c6-c69f56e180a5"
      },
      "source": [
        "jla.head()"
      ],
      "execution_count": 21,
      "outputs": [
        {
          "output_type": "execute_result",
          "data": {
            "text/html": [
              "<div>\n",
              "<style scoped>\n",
              "    .dataframe tbody tr th:only-of-type {\n",
              "        vertical-align: middle;\n",
              "    }\n",
              "\n",
              "    .dataframe tbody tr th {\n",
              "        vertical-align: top;\n",
              "    }\n",
              "\n",
              "    .dataframe thead th {\n",
              "        text-align: right;\n",
              "    }\n",
              "</style>\n",
              "<table border=\"1\" class=\"dataframe\">\n",
              "  <thead>\n",
              "    <tr style=\"text-align: right;\">\n",
              "      <th></th>\n",
              "      <th>#name</th>\n",
              "      <th>zcmb</th>\n",
              "      <th>zhel</th>\n",
              "      <th>dz</th>\n",
              "      <th>mb</th>\n",
              "      <th>dmb</th>\n",
              "      <th>x1</th>\n",
              "      <th>dx1</th>\n",
              "      <th>color</th>\n",
              "      <th>dcolor</th>\n",
              "      <th>3rdvar</th>\n",
              "      <th>d3rdvar</th>\n",
              "      <th>tmax</th>\n",
              "      <th>dtmax</th>\n",
              "      <th>cov_m_s</th>\n",
              "      <th>cov_m_c</th>\n",
              "      <th>cov_s_c</th>\n",
              "      <th>set</th>\n",
              "      <th>ra</th>\n",
              "      <th>dec</th>\n",
              "      <th>biascor</th>\n",
              "    </tr>\n",
              "  </thead>\n",
              "  <tbody>\n",
              "    <tr>\n",
              "      <th>0</th>\n",
              "      <td>03D1au</td>\n",
              "      <td>0.503084</td>\n",
              "      <td>0.5043</td>\n",
              "      <td>0</td>\n",
              "      <td>23.001698</td>\n",
              "      <td>0.088031</td>\n",
              "      <td>1.273191</td>\n",
              "      <td>0.150058</td>\n",
              "      <td>-0.012353</td>\n",
              "      <td>0.030011</td>\n",
              "      <td>9.517</td>\n",
              "      <td>0.1105</td>\n",
              "      <td>52909.745220</td>\n",
              "      <td>0.214332</td>\n",
              "      <td>0.000790</td>\n",
              "      <td>0.000440</td>\n",
              "      <td>-0.000030</td>\n",
              "      <td>1</td>\n",
              "      <td>36.043210</td>\n",
              "      <td>-4.037469</td>\n",
              "      <td>0.001697</td>\n",
              "    </tr>\n",
              "    <tr>\n",
              "      <th>1</th>\n",
              "      <td>03D1aw</td>\n",
              "      <td>0.580724</td>\n",
              "      <td>0.5820</td>\n",
              "      <td>0</td>\n",
              "      <td>23.573937</td>\n",
              "      <td>0.090132</td>\n",
              "      <td>0.974346</td>\n",
              "      <td>0.273823</td>\n",
              "      <td>-0.025076</td>\n",
              "      <td>0.036691</td>\n",
              "      <td>9.169</td>\n",
              "      <td>0.0880</td>\n",
              "      <td>52902.898002</td>\n",
              "      <td>0.352732</td>\n",
              "      <td>0.002823</td>\n",
              "      <td>0.000415</td>\n",
              "      <td>0.001574</td>\n",
              "      <td>1</td>\n",
              "      <td>36.061634</td>\n",
              "      <td>-4.517158</td>\n",
              "      <td>0.000843</td>\n",
              "    </tr>\n",
              "    <tr>\n",
              "      <th>2</th>\n",
              "      <td>03D1ax</td>\n",
              "      <td>0.494795</td>\n",
              "      <td>0.4960</td>\n",
              "      <td>0</td>\n",
              "      <td>22.960139</td>\n",
              "      <td>0.088110</td>\n",
              "      <td>-0.728837</td>\n",
              "      <td>0.102069</td>\n",
              "      <td>-0.099683</td>\n",
              "      <td>0.030305</td>\n",
              "      <td>11.580</td>\n",
              "      <td>0.1125</td>\n",
              "      <td>52915.923670</td>\n",
              "      <td>0.111634</td>\n",
              "      <td>0.000542</td>\n",
              "      <td>0.000475</td>\n",
              "      <td>-0.000024</td>\n",
              "      <td>1</td>\n",
              "      <td>36.097287</td>\n",
              "      <td>-4.720774</td>\n",
              "      <td>0.001692</td>\n",
              "    </tr>\n",
              "    <tr>\n",
              "      <th>3</th>\n",
              "      <td>03D1bp</td>\n",
              "      <td>0.345928</td>\n",
              "      <td>0.3470</td>\n",
              "      <td>0</td>\n",
              "      <td>22.398137</td>\n",
              "      <td>0.087263</td>\n",
              "      <td>-1.155110</td>\n",
              "      <td>0.112834</td>\n",
              "      <td>-0.040581</td>\n",
              "      <td>0.026679</td>\n",
              "      <td>10.821</td>\n",
              "      <td>0.1235</td>\n",
              "      <td>52920.249015</td>\n",
              "      <td>0.102828</td>\n",
              "      <td>0.001114</td>\n",
              "      <td>0.000616</td>\n",
              "      <td>0.000295</td>\n",
              "      <td>1</td>\n",
              "      <td>36.657235</td>\n",
              "      <td>-4.838779</td>\n",
              "      <td>-0.000270</td>\n",
              "    </tr>\n",
              "    <tr>\n",
              "      <th>4</th>\n",
              "      <td>03D1co</td>\n",
              "      <td>0.677662</td>\n",
              "      <td>0.6790</td>\n",
              "      <td>0</td>\n",
              "      <td>24.078115</td>\n",
              "      <td>0.098356</td>\n",
              "      <td>0.618820</td>\n",
              "      <td>0.404295</td>\n",
              "      <td>-0.039380</td>\n",
              "      <td>0.067403</td>\n",
              "      <td>8.647</td>\n",
              "      <td>0.2840</td>\n",
              "      <td>52954.458342</td>\n",
              "      <td>0.454715</td>\n",
              "      <td>0.011857</td>\n",
              "      <td>0.000780</td>\n",
              "      <td>0.005898</td>\n",
              "      <td>1</td>\n",
              "      <td>36.567748</td>\n",
              "      <td>-4.935050</td>\n",
              "      <td>-0.002855</td>\n",
              "    </tr>\n",
              "  </tbody>\n",
              "</table>\n",
              "</div>"
            ],
            "text/plain": [
              "    #name      zcmb    zhel  dz  ...  set         ra       dec   biascor\n",
              "0  03D1au  0.503084  0.5043   0  ...    1  36.043210 -4.037469  0.001697\n",
              "1  03D1aw  0.580724  0.5820   0  ...    1  36.061634 -4.517158  0.000843\n",
              "2  03D1ax  0.494795  0.4960   0  ...    1  36.097287 -4.720774  0.001692\n",
              "3  03D1bp  0.345928  0.3470   0  ...    1  36.657235 -4.838779 -0.000270\n",
              "4  03D1co  0.677662  0.6790   0  ...    1  36.567748 -4.935050 -0.002855\n",
              "\n",
              "[5 rows x 21 columns]"
            ]
          },
          "metadata": {
            "tags": []
          },
          "execution_count": 21
        }
      ]
    },
    {
      "cell_type": "code",
      "metadata": {
        "id": "9GVs7ZWUpMNI",
        "colab_type": "code",
        "colab": {}
      },
      "source": [
        ""
      ],
      "execution_count": 0,
      "outputs": []
    }
  ]
}